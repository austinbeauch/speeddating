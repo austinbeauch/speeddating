{
 "cells": [
  {
   "cell_type": "code",
   "execution_count": 1,
   "metadata": {},
   "outputs": [],
   "source": [
    "%matplotlib inline\n",
    "import matplotlib\n",
    "import matplotlib.pyplot as plt\n",
    "import pandas as pd\n",
    "import numpy as np\n",
    "from collections import Counter\n",
    "\n",
    "\n",
    "raw = pd.read_csv(\"data/Speed-Dating-Data.csv\", encoding=\"windows-1252\")"
   ]
  },
  {
   "cell_type": "code",
   "execution_count": 2,
   "metadata": {},
   "outputs": [],
   "source": [
    "dropping = [\"idg\", \"condtn\", \"position\", \"positin1\", \"field\", \"undergra\", \"mn_sat\", \"tuition\", \"from\", \"zipcode\", \"career\",\n",
    "           \"exphappy\", \"attr4_1\", \"sinc4_1\", \"intel4_1\", \"fun4_1\", \"amb4_1\", \"shar4_1\"]\n",
    "data = raw.drop(columns = dropping)"
   ]
  },
  {
   "cell_type": "code",
   "execution_count": 3,
   "metadata": {},
   "outputs": [
    {
     "name": "stdout",
     "output_type": "stream",
     "text": [
      "     iid  wave  round  order  match  dec\n",
      "0      1     1     10      4      0    1\n",
      "1      1     1     10      3      0    1\n",
      "2      1     1     10     10      1    1\n",
      "3      1     1     10      5      1    1\n",
      "4      1     1     10      7      1    1\n",
      "5      1     1     10      6      0    0\n",
      "6      1     1     10      1      0    1\n",
      "7      1     1     10      2      0    0\n",
      "8      1     1     10      8      1    1\n",
      "9      1     1     10      9      0    1\n",
      "10     2     1     10     10      0    0\n",
      "11     2     1     10      9      0    0\n",
      "12     2     1     10      6      0    0\n",
      "13     2     1     10      1      1    1\n",
      "14     2     1     10      3      0    0\n",
      "15     2     1     10      2      0    0\n",
      "16     2     1     10      7      0    1\n",
      "17     2     1     10      8      0    0\n",
      "18     2     1     10      4      1    1\n",
      "19     2     1     10      5      0    1\n",
      "20     3     1     10      6      0    0\n",
      "21     3     1     10      5      0    0\n",
      "22     3     1     10      2      0    0\n",
      "23     3     1     10      7      0    0\n",
      "24     3     1     10      9      0    0\n",
      "25     3     1     10      8      0    0\n",
      "26     3     1     10      3      0    0\n",
      "27     3     1     10      4      0    0\n",
      "28     3     1     10     10      0    0\n",
      "29     3     1     10      1      0    0\n",
      "..   ...   ...    ...    ...    ...  ...\n",
      "170   18     1     10      2      0    0\n",
      "171   18     1     10      8      0    1\n",
      "172   18     1     10      4      0    0\n",
      "173   18     1     10      1      0    0\n",
      "174   18     1     10      9      0    0\n",
      "175   18     1     10      3      0    0\n",
      "176   18     1     10     10      0    1\n",
      "177   18     1     10      5      1    1\n",
      "178   18     1     10      6      0    0\n",
      "179   18     1     10      7      0    0\n",
      "180   19     1     10      8      1    1\n",
      "181   19     1     10      4      1    1\n",
      "182   19     1     10     10      0    1\n",
      "183   19     1     10      7      1    1\n",
      "184   19     1     10      5      1    1\n",
      "185   19     1     10      9      1    1\n",
      "186   19     1     10      6      1    1\n",
      "187   19     1     10      1      1    1\n",
      "188   19     1     10      2      1    1\n",
      "189   19     1     10      3      1    1\n",
      "190   20     1     10      9      0    0\n",
      "191   20     1     10      5      0    0\n",
      "192   20     1     10      1      0    0\n",
      "193   20     1     10      8      0    0\n",
      "194   20     1     10      6      0    0\n",
      "195   20     1     10     10      0    0\n",
      "196   20     1     10      7      0    0\n",
      "197   20     1     10      2      1    1\n",
      "198   20     1     10      3      0    0\n",
      "199   20     1     10      4      0    0\n",
      "\n",
      "[200 rows x 6 columns]\n"
     ]
    }
   ],
   "source": [
    "sub = data.iloc[:,[0, 3, 4, 5, 8, 79]]\n",
    "\n",
    "l = [6,10,16,18,20]\n",
    "\n",
    "sub = sub[(sub['wave'] != 6) & (sub['wave'] != 10) & (sub['wave'] != 16) & (sub['wave'] != 18) & (sub['wave'] != 20)\n",
    "         ]\n",
    "\n",
    "print(sub[sub[\"wave\"]==1])"
   ]
  },
  {
   "cell_type": "code",
   "execution_count": 4,
   "metadata": {},
   "outputs": [
    {
     "name": "stdout",
     "output_type": "stream",
     "text": [
      "Percentage of successful dates only considering first 5 and last 5 dates\n",
      "[12.01171875  9.1796875   9.81445312 10.15625    10.00976562]\n",
      "[ 9.47265625  9.47265625  9.5703125  10.3515625   9.9609375 ]\n"
     ]
    }
   ],
   "source": [
    "first5 = np.zeros([5])\n",
    "last5 = np.zeros([5])\n",
    "for i in range(sub.shape[0]):\n",
    "    if sub.iloc[i,5] == 1:\n",
    "        index = sub.iloc[i,2] - sub.iloc[i,3]\n",
    "        if sub.iloc[i,3] <= 5:\n",
    "            first5[sub.iloc[i,3]-1] += 1\n",
    "        elif index < 5:\n",
    "            last5[4-index] += 1\n",
    "total = sum(first5) + sum(last5)\n",
    "print(\"Percentage of successful dates only considering first 5 and last 5 dates\")\n",
    "print(first5*100/total)\n",
    "print(last5*100/total)\n",
    "\n"
   ]
  },
  {
   "cell_type": "code",
   "execution_count": 5,
   "metadata": {},
   "outputs": [
    {
     "name": "stdout",
     "output_type": "stream",
     "text": [
      "Total dates in order of date number\n",
      "dict_values([246, 188, 201, 208, 205, 214, 199, 197, 214, 199, 149, 139, 151, 155, 134, 121, 95, 100, 85, 57, 29, 17])\n",
      "Percentage of successful dates for first 5 and last 5 dates considering all dates\n",
      "[7.44777475 5.69179534 6.08537693 6.29730548 6.20647896]\n",
      "[5.87344838 5.87344838 5.93399939 6.41840751 6.17620345]\n"
     ]
    }
   ],
   "source": [
    "w = ([sub.iloc[i,3] for i in range(sub.shape[0]) if sub.iloc[i,5] == 1])\n",
    "w.sort()\n",
    "#print(w)\n",
    "print(\"Total dates in order of date number\")\n",
    "print(Counter(w).values())\n",
    "print(\"Percentage of successful dates for first 5 and last 5 dates considering all dates\")\n",
    "print(first5/sum(Counter(w).values())*100)\n",
    "print(last5/sum(Counter(w).values())*100)"
   ]
  },
  {
   "cell_type": "code",
   "execution_count": 6,
   "metadata": {
    "scrolled": false
   },
   "outputs": [
    {
     "data": {
      "image/png": "[encoded data removed]",
      "text/plain": [
       "<Figure size 432x288 with 1 Axes>"
      ]
     },
     "metadata": {},
     "output_type": "display_data"
    },
    {
     "data": {
      "image/png": "[encoded data removed]",
      "text/plain": [
       "<Figure size 432x288 with 1 Axes>"
      ]
     },
     "metadata": {},
     "output_type": "display_data"
    }
   ],
   "source": [
    "plt.plot(['1st','2nd','3rd','4th','5th'], first5, 'bo')\n",
    "plt.ylabel('Total number of matches')\n",
    "plt.xlabel('Rounds')\n",
    "plt.title('First 5 rounds')\n",
    "plt.show()\n",
    "\n",
    "plt.plot(['5th last','4th last', '3rd last', '2nd last', 'last'], last5, 'ro')\n",
    "plt.ylabel('Total number of matches')\n",
    "plt.xlabel('Rounds')\n",
    "plt.title('Last 5 rounds')\n",
    "plt.show()\n"
   ]
  },
  {
   "cell_type": "code",
   "execution_count": null,
   "metadata": {},
   "outputs": [],
   "source": []
  }
 ],
 "metadata": {
  "kernelspec": {
   "display_name": "Python 3",
   "language": "python",
   "name": "python3"
  },
  "language_info": {
   "codemirror_mode": {
    "name": "ipython",
    "version": 3
   },
   "file_extension": ".py",
   "mimetype": "text/x-python",
   "name": "python",
   "nbconvert_exporter": "python",
   "pygments_lexer": "ipython3",
   "version": "3.6.5"
  }
 },
 "nbformat": 4,
 "nbformat_minor": 2
}
