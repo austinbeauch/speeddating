{
 "cells": [
  {
   "cell_type": "code",
   "execution_count": 1,
   "metadata": {},
   "outputs": [],
   "source": [
    "import pandas as pd\n",
    "from pprint import pprint\n",
    "import numpy as np\n",
    "from sklearn.model_selection import KFold\n",
    "from sklearn.linear_model import LinearRegression\n",
    "\n",
    "raw = pd.read_csv(\"data/Speed-Dating-Data.csv\", encoding=\"windows-1252\")"
   ]
  },
  {
   "cell_type": "code",
   "execution_count": 2,
   "metadata": {},
   "outputs": [],
   "source": [
    "dropping = [\"idg\", \"condtn\", \"position\", \"positin1\", \"field\", \"undergra\", \"mn_sat\", \"tuition\", \"from\", \"zipcode\", \"career\",\n",
    "           \"exphappy\", \"attr4_1\", \"sinc4_1\", \"intel4_1\", \"fun4_1\", \"amb4_1\", \"shar4_1\"]\n",
    "data = raw.drop(columns = dropping)"
   ]
  },
  {
   "cell_type": "code",
   "execution_count": 3,
   "metadata": {},
   "outputs": [],
   "source": [
    "testing_values = ['dec', \"attr\", \"sinc\", \"intel\", \"fun\", \"amb\"]\n",
    "sub_M = pd.DataFrame(data, columns=testing_values)\n",
    "#print(sub_M[159:162])\n",
    "sub_M = sub_M.dropna()\n",
    "\n",
    "training_features = [\"attr\", \"sinc\", \"intel\", \"fun\", \"amb\"]\n",
    "testing_labels = ['dec']\n",
    "X = pd.DataFrame(sub_M, columns=training_features)\n",
    "y = pd.DataFrame(sub_M, columns=testing_labels)\n",
    "\n",
    "\n"
   ]
  },
  {
   "cell_type": "code",
   "execution_count": 4,
   "metadata": {},
   "outputs": [
    {
     "name": "stdout",
     "output_type": "stream",
     "text": [
      "Training and testing on same data\n",
      "Headers:  ['attr', 'sinc', 'intel', 'fun', 'amb']\n",
      "Coefficients:  [ 0.09785641 -0.01414224  0.00640126  0.0572765  -0.01495719]\n",
      "0-1 Loss: 0.2575056209496098\n",
      "Mean Squared Error 0.18019411107588917\n",
      "Predicts correctly 74.24943790503902 % of the time\n",
      "\n",
      "\n",
      "Using 10 fold cross validation\n",
      "Coefficients: [ 0.09786045 -0.01414776  0.00640302  0.05727919 -0.01495706]\n",
      "0-1 Loss 0.25830048297023195\n",
      "Mean Squared Error 0.18045420153532196\n",
      "Predicts correctly 74.1699517029768 % of the time\n"
     ]
    },
    {
     "name": "stderr",
     "output_type": "stream",
     "text": [
      "C:\\Users\\Steve\\Anaconda3\\lib\\site-packages\\ipykernel_launcher.py:26: FutureWarning: Using a non-tuple sequence for multidimensional indexing is deprecated; use `arr[tuple(seq)]` instead of `arr[seq]`. In the future this will be interpreted as an array index, `arr[np.array(seq)]`, which will result either in an error or a different result.\n"
     ]
    }
   ],
   "source": [
    "X_values = X.values\n",
    "y_values = y.values\n",
    "\n",
    "noCV = LinearRegression().fit(X_values,y_values)\n",
    "y_hat = (noCV.predict(X_values))\n",
    "AE = (sum(np.abs(y_values - np.rint(y_hat))))\n",
    "MAE = AE/y.shape[0]\n",
    "SE = sum(np.abs(y_values - (y_hat))**2)\n",
    "MSE = SE/y.shape[0]\n",
    "print(\"Training and testing on same data\")\n",
    "print(\"Headers: \", training_features)\n",
    "print(\"Coefficients: \", noCV.coef_[0])\n",
    "print(\"0-1 Loss:\", MAE[0])\n",
    "print(\"Mean Squared Error\", np.mean(MSE[0]))\n",
    "print(\"Predicts correctly\", 100*(1 - np.mean(MAE[0])), \"% of the time\\n\\n\")\n",
    "\n",
    "regr = LinearRegression()\n",
    "n = 10\n",
    "kf = KFold(n_splits=n, shuffle = True, random_state = 420)\n",
    "\n",
    "MAE_array = np.zeros([10])\n",
    "MSE_array = np.zeros([10])\n",
    "coef_array = np.zeros([10,5])\n",
    "i = 0\n",
    "for train_index, test_index in kf.split(y):\n",
    "    X_train, X_test = X.values[tuple(train_index),],  X.values[[tuple(test_index)]]\n",
    "    y_train, y_test = y.values[[tuple(train_index)],0].T, y.values[[tuple(test_index)],0].T\n",
    "    reg = regr.fit(X_train, y_train)\n",
    "    \n",
    "    coef_array[i] = reg.coef_\n",
    "    \n",
    "    y_hat = reg.predict(X_test)\n",
    "    AE = sum(np.abs(y_test - np.rint(y_hat)))\n",
    "    SE = sum((y_test - (y_hat))**2)\n",
    "    MAE = AE/y_test.shape[0]\n",
    "    MSE = SE/y_test.shape[0]\n",
    "    MAE_array[i] = MAE\n",
    "    MSE_array[i] = MSE\n",
    "    i += 1\n",
    "    \n",
    "print(\"Using 10 fold cross validation\")\n",
    "print(\"Coefficients:\", np.mean(coef_array, axis = 0))\n",
    "print(\"0-1 Loss\", np.mean(MAE_array))\n",
    "print(\"Mean Squared Error\", np.mean(MSE_array))\n",
    "print(\"Predicts correctly\", 100*(1 - np.mean(MAE_array)), \"% of the time\")\n"
   ]
  },
  {
   "cell_type": "code",
   "execution_count": null,
   "metadata": {},
   "outputs": [],
   "source": []
  }
 ],
 "metadata": {
  "kernelspec": {
   "display_name": "Python 3",
   "language": "python",
   "name": "python3"
  },
  "language_info": {
   "codemirror_mode": {
    "name": "ipython",
    "version": 3
   },
   "file_extension": ".py",
   "mimetype": "text/x-python",
   "name": "python",
   "nbconvert_exporter": "python",
   "pygments_lexer": "ipython3",
   "version": "3.6.5"
  }
 },
 "nbformat": 4,
 "nbformat_minor": 2
}
