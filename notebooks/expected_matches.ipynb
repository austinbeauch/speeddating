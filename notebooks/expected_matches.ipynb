{
 "cells": [
  {
   "cell_type": "code",
   "execution_count": 1,
   "metadata": {},
   "outputs": [
    {
     "name": "stderr",
     "output_type": "stream",
     "text": [
      "C:\\Users\\austi\\Anaconda3\\lib\\site-packages\\h5py\\__init__.py:36: FutureWarning: Conversion of the second argument of issubdtype from `float` to `np.floating` is deprecated. In future, it will be treated as `np.float64 == np.dtype(float).type`.\n",
      "  from ._conv import register_converters as _register_converters\n"
     ]
    }
   ],
   "source": [
    "from pprint import pprint\n",
    "\n",
    "import numpy as np\n",
    "import pandas as pd\n",
    "import seaborn as sns\n",
    "import tensorflow as tf\n",
    "from matplotlib import pyplot as plt\n",
    "from sklearn.preprocessing import StandardScaler\n",
    "from sklearn.model_selection import train_test_split"
   ]
  },
  {
   "cell_type": "code",
   "execution_count": 2,
   "metadata": {},
   "outputs": [
    {
     "name": "stderr",
     "output_type": "stream",
     "text": [
      "Using TensorFlow backend.\n"
     ]
    }
   ],
   "source": [
    "from keras.models import Sequential\n",
    "from keras.layers import Dense, Activation, Dropout"
   ]
  },
  {
   "cell_type": "code",
   "execution_count": 3,
   "metadata": {},
   "outputs": [
    {
     "data": {
      "text/plain": [
       "[]"
      ]
     },
     "execution_count": 3,
     "metadata": {},
     "output_type": "execute_result"
    }
   ],
   "source": [
    "from keras import backend as K\n",
    "K.tensorflow_backend._get_available_gpus()"
   ]
  },
  {
   "cell_type": "code",
   "execution_count": 4,
   "metadata": {},
   "outputs": [],
   "source": [
    "raw = pd.read_csv(\"data/Speed-Dating-Data.csv\", encoding=\"windows-1252\")"
   ]
  },
  {
   "cell_type": "code",
   "execution_count": 5,
   "metadata": {},
   "outputs": [],
   "source": [
    "dropping = [\"idg\", \"condtn\", \"position\", \"positin1\", \"field\", \"undergra\", \"mn_sat\", \"tuition\", \"from\", \"zipcode\", \"career\",\n",
    "           \"exphappy\", \"attr4_1\", \"sinc4_1\", \"intel4_1\", \"fun4_1\", \"amb4_1\", \"shar4_1\"]\n",
    "\n",
    "data = raw.drop(columns=dropping)"
   ]
  },
  {
   "cell_type": "markdown",
   "metadata": {},
   "source": [
    "### Lists of data sections for future column selection"
   ]
  },
  {
   "cell_type": "code",
   "execution_count": 6,
   "metadata": {},
   "outputs": [],
   "source": [
    "activities = [\"sports\", \"tvsports\", \"exercise\", \"dining\", \"museums\",\"art\", \"hiking\", \n",
    "              \"gaming\", \"clubbing\", \"reading\", \"tv\", \"theater\", \"movies\", \"concerts\", \"music\", \n",
    "              \"shopping\", \"yoga\"]\n",
    "\n",
    "ratings_of_partner = [\"attr\", \"intel\", \"fun\", \"amb\",\"shar\", \"like\", \"prob\", \"met\"]\n",
    "ratings_from_partner = [\"attr_o\", \"intel_o\", \"fun_o\", \"amb_o\",\"shar_o\", \n",
    "                        \"like_o\", \"prob_o\", \"met_o\"]\n",
    "\n",
    "importance = [\"attr1_1\", \"sinc1_1\", \"intel1_1\", \"fun1_1\", \"amb1_1\", \"shar1_1\"]\n",
    "partners_importance = [\"pf_o_attr\", \"pf_o_sin\", \"pf_o_int\", \"pf_o_fun\", \"pf_o_amb\",\"pf_o_shar\"]"
   ]
  },
  {
   "cell_type": "code",
   "execution_count": 80,
   "metadata": {},
   "outputs": [],
   "source": [
    "real_num = dict()\n",
    "\n",
    "for index, row in data.iterrows():\n",
    "    iid = int(row[\"iid\"])    \n",
    "    if iid not in real_num:\n",
    "        real_num[iid] = 0\n",
    "    real_num[iid] += row[\"dec_o\"]"
   ]
  },
  {
   "cell_type": "code",
   "execution_count": 81,
   "metadata": {},
   "outputs": [],
   "source": [
    "people[\"real\"] = pd.DataFrame([real_num]).T"
   ]
  },
  {
   "cell_type": "code",
   "execution_count": 83,
   "metadata": {},
   "outputs": [],
   "source": [
    "people[\"real_perc\"] = people[\"real\"] / people[\"round\"]"
   ]
  },
  {
   "cell_type": "code",
   "execution_count": 85,
   "metadata": {},
   "outputs": [],
   "source": [
    "people[\"diff\"] = people[\"real_perc\"] - people[\"exp_perc\"]"
   ]
  },
  {
   "cell_type": "code",
   "execution_count": 122,
   "metadata": {},
   "outputs": [
    {
     "data": {
      "image/png": "[encoded data removed]",
      "text/plain": [
       "<Figure size 432x288 with 1 Axes>"
      ]
     },
     "metadata": {},
     "output_type": "display_data"
    }
   ],
   "source": [
    "plt.hist(people[\"diff\"].values.astype(np.float64))\n",
    "plt.show()"
   ]
  },
  {
   "cell_type": "code",
   "execution_count": 192,
   "metadata": {},
   "outputs": [],
   "source": [
    "wave_matches = dict()\n",
    "rounds = dict()\n",
    "\n",
    "for index, row in data.iterrows():\n",
    "    try:\n",
    "        wave_matches[row[\"wave\"]] += row[\"match\"]\n",
    "    except KeyError:\n",
    "        wave_matches[row[\"wave\"]] = row[\"match\"]\n",
    "    \n",
    "    try:\n",
    "        rounds[row[\"wave\"]].update([row[\"round\"]])\n",
    "    except KeyError:\n",
    "        rounds[row[\"wave\"]] = set([row[\"round\"]])\n",
    "print(rounds)\n",
    "for wave in wave_matches:\n",
    "    r = list(rounds[wave])\n",
    "    if len(w) == 1:\n",
    "        rounds[wave] = r[0]**2\n",
    "    elif len(w) == 2:\n",
    "        rounds[wave] = r[0] * r[1]\n",
    "    else:\n",
    "        print(\"uh oh\")\n",
    "        break\n",
    "    wave_matches[wave] /= 2"
   ]
  },
  {
   "cell_type": "code",
   "execution_count": 202,
   "metadata": {},
   "outputs": [],
   "source": [
    "total_matches = list(wave_matches.values())"
   ]
  },
  {
   "cell_type": "code",
   "execution_count": 203,
   "metadata": {},
   "outputs": [
    {
     "data": {
      "text/plain": [
       "dict_values([100, 256, 100, 324, 100, 25, 256, 100, 400, 81, 441, 196, 81, 324, 324, 64, 121, 36, 225, 36, 484])"
      ]
     },
     "execution_count": 203,
     "metadata": {},
     "output_type": "execute_result"
    }
   ],
   "source": [
    "rounds.values()"
   ]
  },
  {
   "cell_type": "code",
   "execution_count": 208,
   "metadata": {},
   "outputs": [
    {
     "data": {
      "image/png": "[encoded data removed]",
      "text/plain": [
       "<Figure size 720x360 with 1 Axes>"
      ]
     },
     "metadata": {},
     "output_type": "display_data"
    }
   ],
   "source": [
    "plt.figure(figsize=(10,5))\n",
    "plt.plot(list(rounds.values()), total_matches, '.')\n",
    "plt.xlabel(\"Total dates\")\n",
    "plt.ylabel(\"Total matches\")\n",
    "plt.show()"
   ]
  },
  {
   "cell_type": "code",
   "execution_count": null,
   "metadata": {},
   "outputs": [],
   "source": []
  }
 ],
 "metadata": {
  "kernelspec": {
   "display_name": "Python 3",
   "language": "python",
   "name": "python3"
  },
  "language_info": {
   "codemirror_mode": {
    "name": "ipython",
    "version": 3
   },
   "file_extension": ".py",
   "mimetype": "text/x-python",
   "name": "python",
   "nbconvert_exporter": "python",
   "pygments_lexer": "ipython3",
   "version": "3.6.5"
  }
 },
 "nbformat": 4,
 "nbformat_minor": 2
}
